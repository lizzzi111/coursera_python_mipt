{
 "cells": [
  {
   "cell_type": "code",
   "execution_count": 27,
   "metadata": {},
   "outputs": [],
   "source": [
    "class CarBase:\n",
    "    def __init__(self, brand, photo_file_name, carrying):\n",
    "        self.brand = brand\n",
    "        self.photo_file_name = photo_file_name\n",
    "        self.carrying = carrying\n",
    "\n",
    "    def get_photo_file_ext():\n",
    "        return os.path.splitext(self.photo_file_name)[1]\n",
    "\n",
    "class Car(CarBase):\n",
    "    \n",
    "    car_type = 'car'\n",
    "    \n",
    "    def __init__(self, brand, photo_file_name, carrying, passenger_seats_count):\n",
    "        super(Car, self).__init__(brand, photo_file_name, carrying)\n",
    "        self.passenger_seats_count = passenger_seats_count\n",
    "\n",
    "\n",
    "class Truck(CarBase):\n",
    "    \n",
    "    car_type = 'truck'\n",
    "    \n",
    "    def __init__(self, brand, photo_file_name, carrying, body_whl):\n",
    "        super(Truck, self).__init__(brand, photo_file_name, carrying)\n",
    "        if body_whl=='NotValid':\n",
    "            self.body_length = 0.0\n",
    "            self.body_width = 0.0\n",
    "            self.body_height = 0.0\n",
    "        else:\n",
    "            characteristics = body_whl.split('x')\n",
    "            self.body_length = characteristics[0]\n",
    "            self.body_width = characteristics[1]\n",
    "            self.body_height = characteristics[2]\n",
    "    \n",
    "    def get_body_volume(self):\n",
    "        return self.body_length * self.body_width * self.body_height\n",
    "\n",
    "class SpecMachine(CarBase):\n",
    "    \n",
    "    car_type = 'specmachine'\n",
    "    \n",
    "    def __init__(self, brand, photo_file_name, carrying, extra):\n",
    "        super(SpecMachine, self).__init__(brand, photo_file_name, carrying)\n",
    "        self.extra = extra\n"
   ]
  },
  {
   "cell_type": "code",
   "execution_count": 59,
   "metadata": {},
   "outputs": [],
   "source": [
    "def get_car_list(csv_filename):\n",
    "    car_list = []\n",
    "    with open(csv_filename) as csv_fd:\n",
    "        reader = csv.reader(csv_fd, delimiter=';')\n",
    "        next(reader)  # пропускаем заголовок\n",
    "        for row in reader:\n",
    "            if len(row) < 7:\n",
    "                continue\n",
    "            if row[0] == 'car':\n",
    "                #def __init__(self, brand, photo_file_name, carrying, passenger_seats_count)\n",
    "                car = Car(row[1], row[3], float(row[5]), row[2])\n",
    "            elif row[0] == 'truck':\n",
    "                \n",
    "                try:\n",
    "                    slit = row[4].split('x')[1]\n",
    "                    body_whl = row[4]\n",
    "                except:\n",
    "                    body_whl = 'NotValid'\n",
    "                #__init__(self, brand, photo_file_name, carrying, body_whl)\n",
    "                car = Truck(row[1], row[3], float(row[5]), body_whl)\n",
    "            elif row[0] == 'spec_machine':\n",
    "                #brand, photo_file_name, carrying, extra\n",
    "                car = SpecMachine(row[1], row[3], float(row[5]), row[6])\n",
    "            else:\n",
    "                continue\n",
    "            car_list.append(car)\n",
    "    return car_list"
   ]
  },
  {
   "cell_type": "code",
   "execution_count": 65,
   "metadata": {},
   "outputs": [
    {
     "name": "stdout",
     "output_type": "stream",
     "text": [
      "Nissan xTtrail\n",
      "Man\n",
      "Man\n",
      "Mazda 6\n",
      "Hitachi\n"
     ]
    }
   ],
   "source": [
    "if __name__ == '__main__':\n",
    "    cars = get_car_list('coursera_week3_cars.csv')\n",
    "    for car in cars:\n",
    "        print(car.brand)"
   ]
  }
 ],
 "metadata": {
  "kernelspec": {
   "display_name": "Python 3",
   "language": "python",
   "name": "python3"
  },
  "language_info": {
   "codemirror_mode": {
    "name": "ipython",
    "version": 3
   },
   "file_extension": ".py",
   "mimetype": "text/x-python",
   "name": "python",
   "nbconvert_exporter": "python",
   "pygments_lexer": "ipython3",
   "version": "3.6.5"
  }
 },
 "nbformat": 4,
 "nbformat_minor": 4
}
